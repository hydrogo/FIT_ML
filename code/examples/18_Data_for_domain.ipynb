{
 "cells": [
  {
   "cell_type": "code",
   "execution_count": 2,
   "metadata": {},
   "outputs": [],
   "source": [
    "import os\n",
    "import pandas as pd\n",
    "import numpy as np\n",
    "from multiprocessing import Pool, cpu_count"
   ]
  },
  {
   "cell_type": "code",
   "execution_count": 3,
   "metadata": {},
   "outputs": [],
   "source": [
    "valid_ids = np.load(\"../results/misc/glacier_ids_valid.npy\")"
   ]
  },
  {
   "cell_type": "code",
   "execution_count": 6,
   "metadata": {},
   "outputs": [
    {
     "data": {
      "text/plain": [
       "array(['RGI60-13.00014', 'RGI60-13.00015', 'RGI60-13.00017', ...,\n",
       "       'RGI60-13.54174', 'RGI60-13.54178', 'RGI60-14.00004'], dtype='<U14')"
      ]
     },
     "execution_count": 6,
     "metadata": {},
     "output_type": "execute_result"
    }
   ],
   "source": [
    "valid_ids"
   ]
  },
  {
   "cell_type": "code",
   "execution_count": 4,
   "metadata": {},
   "outputs": [],
   "source": [
    "static_features = pd.read_csv(\"../hackathon_2018/data/raw/RGI-Asia/rgi60_Asia.csv\")"
   ]
  },
  {
   "cell_type": "code",
   "execution_count": 5,
   "metadata": {},
   "outputs": [
    {
     "data": {
      "text/plain": [
       "Index(['RGIId', 'GLIMSId', 'BgnDate', 'EndDate', 'CenLon', 'CenLat',\n",
       "       'O1Region', 'O2Region', 'Area', 'Zmin', 'Zmax', 'Zmed', 'Slope',\n",
       "       'Aspect', 'Lmax', 'Status', 'Connect', 'Form', 'TermType', 'Surging',\n",
       "       'Linkages', 'Name'],\n",
       "      dtype='object')"
      ]
     },
     "execution_count": 5,
     "metadata": {},
     "output_type": "execute_result"
    }
   ],
   "source": [
    "static_features.columns"
   ]
  },
  {
   "cell_type": "code",
   "execution_count": 7,
   "metadata": {},
   "outputs": [],
   "source": [
    "tsl_store = pd.read_hdf(\"../data/FIT_forcing/tsl/TSL-filtered-noWinterMax_SLAthres.h5\", mode=\"r\")"
   ]
  },
  {
   "cell_type": "code",
   "execution_count": 8,
   "metadata": {},
   "outputs": [],
   "source": [
    "meteo_path = \"../data/FIT_forcing/meteo/\""
   ]
  },
  {
   "cell_type": "code",
   "execution_count": 25,
   "metadata": {},
   "outputs": [],
   "source": [
    "def read_tsl_minmax(rgi_id, store=tsl_store):\n",
    "    \n",
    "    df = store[store['RGI_ID']==rgi_id][[\"SC_median\", \"LS_DATE\"]]\n",
    "    df.index = pd.to_datetime(df[\"LS_DATE\"])\n",
    "    \n",
    "    tsl = pd.DataFrame(df[\"SC_median\"]) # previously TSL_normalized\n",
    "    \n",
    "    tsl_min = tsl.min()[0]\n",
    "    \n",
    "    tsl_max = tsl.max()[0]\n",
    "    \n",
    "    return tsl_min, tsl_max\n",
    "\n",
    "def read_meteo(rgi_id, path=meteo_path):\n",
    "    \n",
    "    meteo = pd.read_hdf(f\"{meteo_path}{rgi_id}.h5\")\n",
    "    \n",
    "    return meteo"
   ]
  },
  {
   "cell_type": "code",
   "execution_count": 26,
   "metadata": {},
   "outputs": [
    {
     "data": {
      "text/plain": [
       "(5562.0, 5862.0)"
      ]
     },
     "execution_count": 26,
     "metadata": {},
     "output_type": "execute_result"
    }
   ],
   "source": [
    "read_tsl_minmax(\"RGI60-13.00014\")"
   ]
  },
  {
   "cell_type": "code",
   "execution_count": 27,
   "metadata": {},
   "outputs": [],
   "source": [
    "def MM_rescaler(Xsc, min_, max_):\n",
    "    \n",
    "    X = Xsc * (max_ - min_) + min_\n",
    "    \n",
    "    return X"
   ]
  },
  {
   "cell_type": "code",
   "execution_count": 28,
   "metadata": {},
   "outputs": [],
   "source": [
    "def basin_wise(rgi_id, freq=\"M\", subset_jjas=False):\n",
    "    \n",
    "    if freq == \"M\":\n",
    "        freq_prefix = \"monthly\"\n",
    "    elif freq == \"W\":\n",
    "        freq_prefix = \"weekly\"\n",
    "    \n",
    "    if subset_jjas:\n",
    "        subset_prefix = \"JJAS\"\n",
    "    else:\n",
    "        subset_prefix = \"full\"\n",
    "        \n",
    "    source_dir = f\"../results/data4ml/{freq_prefix}_{subset_prefix}/\"\n",
    "    \n",
    "    data = pd.read_csv(f\"{source_dir}{rgi_id}.csv\", compression=\"gzip\")\n",
    "    \n",
    "    static_features_slice = static_features[static_features[\"RGIId\"]==rgi_id].copy()\n",
    "    \n",
    "    static_features_slice = static_features_slice[['CenLon', 'CenLat', 'Area', 'Zmin', 'Zmax', 'Zmed', \n",
    "                                                   'Slope', 'Aspect', 'Lmax']].copy()\n",
    "    \n",
    "    for c in static_features_slice.columns:\n",
    "        data[c] = static_features_slice[c].values[0]\n",
    "    \n",
    "    \n",
    "    tsl_min, tsl_max = read_tsl_minmax(rgi_id)\n",
    "    \n",
    "    data[\"TSL\"] = MM_rescaler(data[\"TSL_normalized\"].values, tsl_min, tsl_max)\n",
    "    \n",
    "    data = data.drop(\"TSL_normalized\", axis=1)    \n",
    "    \n",
    "    return data"
   ]
  },
  {
   "cell_type": "code",
   "execution_count": 29,
   "metadata": {},
   "outputs": [],
   "source": [
    "f = basin_wise(\"RGI60-13.00014\")"
   ]
  },
  {
   "cell_type": "code",
   "execution_count": 31,
   "metadata": {},
   "outputs": [
    {
     "data": {
      "text/html": [
       "<div>\n",
       "<style scoped>\n",
       "    .dataframe tbody tr th:only-of-type {\n",
       "        vertical-align: middle;\n",
       "    }\n",
       "\n",
       "    .dataframe tbody tr th {\n",
       "        vertical-align: top;\n",
       "    }\n",
       "\n",
       "    .dataframe thead th {\n",
       "        text-align: right;\n",
       "    }\n",
       "</style>\n",
       "<table border=\"1\" class=\"dataframe\">\n",
       "  <thead>\n",
       "    <tr style=\"text-align: right;\">\n",
       "      <th></th>\n",
       "      <th>LS_DATE</th>\n",
       "      <th>t2m_min</th>\n",
       "      <th>t2m_max</th>\n",
       "      <th>t2m_mean</th>\n",
       "      <th>tp</th>\n",
       "      <th>sf</th>\n",
       "      <th>ssrd</th>\n",
       "      <th>strd</th>\n",
       "      <th>wind_max</th>\n",
       "      <th>wind_mean</th>\n",
       "      <th>...</th>\n",
       "      <th>CenLon</th>\n",
       "      <th>CenLat</th>\n",
       "      <th>Area</th>\n",
       "      <th>Zmin</th>\n",
       "      <th>Zmax</th>\n",
       "      <th>Zmed</th>\n",
       "      <th>Slope</th>\n",
       "      <th>Aspect</th>\n",
       "      <th>Lmax</th>\n",
       "      <th>TSL</th>\n",
       "    </tr>\n",
       "  </thead>\n",
       "  <tbody>\n",
       "    <tr>\n",
       "      <th>0</th>\n",
       "      <td>1989-08-31</td>\n",
       "      <td>259.058380</td>\n",
       "      <td>281.945679</td>\n",
       "      <td>271.596613</td>\n",
       "      <td>0.028761</td>\n",
       "      <td>0.022281</td>\n",
       "      <td>8.292750e+08</td>\n",
       "      <td>287.097715</td>\n",
       "      <td>6.424274</td>\n",
       "      <td>2.468200</td>\n",
       "      <td>...</td>\n",
       "      <td>78.0681</td>\n",
       "      <td>35.5749</td>\n",
       "      <td>0.649</td>\n",
       "      <td>5559</td>\n",
       "      <td>5953</td>\n",
       "      <td>5745</td>\n",
       "      <td>30.2</td>\n",
       "      <td>51</td>\n",
       "      <td>615</td>\n",
       "      <td>5666.651163</td>\n",
       "    </tr>\n",
       "    <tr>\n",
       "      <th>1</th>\n",
       "      <td>1990-04-30</td>\n",
       "      <td>237.910599</td>\n",
       "      <td>265.980774</td>\n",
       "      <td>255.141478</td>\n",
       "      <td>0.021849</td>\n",
       "      <td>0.021832</td>\n",
       "      <td>8.830251e+08</td>\n",
       "      <td>200.280629</td>\n",
       "      <td>6.011836</td>\n",
       "      <td>2.901409</td>\n",
       "      <td>...</td>\n",
       "      <td>78.0681</td>\n",
       "      <td>35.5749</td>\n",
       "      <td>0.649</td>\n",
       "      <td>5559</td>\n",
       "      <td>5953</td>\n",
       "      <td>5745</td>\n",
       "      <td>30.2</td>\n",
       "      <td>51</td>\n",
       "      <td>615</td>\n",
       "      <td>5577.697674</td>\n",
       "    </tr>\n",
       "    <tr>\n",
       "      <th>2</th>\n",
       "      <td>1990-05-31</td>\n",
       "      <td>242.675293</td>\n",
       "      <td>272.307953</td>\n",
       "      <td>261.945150</td>\n",
       "      <td>0.004202</td>\n",
       "      <td>0.004181</td>\n",
       "      <td>1.014764e+09</td>\n",
       "      <td>220.910335</td>\n",
       "      <td>5.346447</td>\n",
       "      <td>2.007974</td>\n",
       "      <td>...</td>\n",
       "      <td>78.0681</td>\n",
       "      <td>35.5749</td>\n",
       "      <td>0.649</td>\n",
       "      <td>5559</td>\n",
       "      <td>5953</td>\n",
       "      <td>5745</td>\n",
       "      <td>30.2</td>\n",
       "      <td>51</td>\n",
       "      <td>615</td>\n",
       "      <td>5578.744186</td>\n",
       "    </tr>\n",
       "    <tr>\n",
       "      <th>3</th>\n",
       "      <td>1991-04-30</td>\n",
       "      <td>242.211685</td>\n",
       "      <td>266.971863</td>\n",
       "      <td>254.809701</td>\n",
       "      <td>0.015924</td>\n",
       "      <td>0.015863</td>\n",
       "      <td>8.740165e+08</td>\n",
       "      <td>201.806992</td>\n",
       "      <td>6.521462</td>\n",
       "      <td>2.689037</td>\n",
       "      <td>...</td>\n",
       "      <td>78.0681</td>\n",
       "      <td>35.5749</td>\n",
       "      <td>0.649</td>\n",
       "      <td>5559</td>\n",
       "      <td>5953</td>\n",
       "      <td>5745</td>\n",
       "      <td>30.2</td>\n",
       "      <td>51</td>\n",
       "      <td>615</td>\n",
       "      <td>5578.744186</td>\n",
       "    </tr>\n",
       "    <tr>\n",
       "      <th>4</th>\n",
       "      <td>1991-08-31</td>\n",
       "      <td>248.359772</td>\n",
       "      <td>283.750885</td>\n",
       "      <td>272.605475</td>\n",
       "      <td>0.027929</td>\n",
       "      <td>0.022797</td>\n",
       "      <td>8.430954e+08</td>\n",
       "      <td>282.575966</td>\n",
       "      <td>7.844883</td>\n",
       "      <td>2.339550</td>\n",
       "      <td>...</td>\n",
       "      <td>78.0681</td>\n",
       "      <td>35.5749</td>\n",
       "      <td>0.649</td>\n",
       "      <td>5559</td>\n",
       "      <td>5953</td>\n",
       "      <td>5745</td>\n",
       "      <td>30.2</td>\n",
       "      <td>51</td>\n",
       "      <td>615</td>\n",
       "      <td>5586.418605</td>\n",
       "    </tr>\n",
       "  </tbody>\n",
       "</table>\n",
       "<p>5 rows × 311 columns</p>\n",
       "</div>"
      ],
      "text/plain": [
       "      LS_DATE     t2m_min     t2m_max    t2m_mean        tp        sf  \\\n",
       "0  1989-08-31  259.058380  281.945679  271.596613  0.028761  0.022281   \n",
       "1  1990-04-30  237.910599  265.980774  255.141478  0.021849  0.021832   \n",
       "2  1990-05-31  242.675293  272.307953  261.945150  0.004202  0.004181   \n",
       "3  1991-04-30  242.211685  266.971863  254.809701  0.015924  0.015863   \n",
       "4  1991-08-31  248.359772  283.750885  272.605475  0.027929  0.022797   \n",
       "\n",
       "           ssrd        strd  wind_max  wind_mean  ...   CenLon   CenLat  \\\n",
       "0  8.292750e+08  287.097715  6.424274   2.468200  ...  78.0681  35.5749   \n",
       "1  8.830251e+08  200.280629  6.011836   2.901409  ...  78.0681  35.5749   \n",
       "2  1.014764e+09  220.910335  5.346447   2.007974  ...  78.0681  35.5749   \n",
       "3  8.740165e+08  201.806992  6.521462   2.689037  ...  78.0681  35.5749   \n",
       "4  8.430954e+08  282.575966  7.844883   2.339550  ...  78.0681  35.5749   \n",
       "\n",
       "    Area  Zmin  Zmax  Zmed  Slope  Aspect  Lmax          TSL  \n",
       "0  0.649  5559  5953  5745   30.2      51   615  5666.651163  \n",
       "1  0.649  5559  5953  5745   30.2      51   615  5577.697674  \n",
       "2  0.649  5559  5953  5745   30.2      51   615  5578.744186  \n",
       "3  0.649  5559  5953  5745   30.2      51   615  5578.744186  \n",
       "4  0.649  5559  5953  5745   30.2      51   615  5586.418605  \n",
       "\n",
       "[5 rows x 311 columns]"
      ]
     },
     "execution_count": 31,
     "metadata": {},
     "output_type": "execute_result"
    }
   ],
   "source": [
    "f.head()"
   ]
  },
  {
   "cell_type": "code",
   "execution_count": 32,
   "metadata": {},
   "outputs": [],
   "source": [
    "output_file = \"../results/data4ml/domain/monthly_full.csv\""
   ]
  },
  {
   "cell_type": "code",
   "execution_count": 33,
   "metadata": {},
   "outputs": [],
   "source": [
    "def combine_for_domain(output_f, freq=\"M\", subset_jjas=False):\n",
    "    \n",
    "    ids_valid = valid_ids\n",
    "    \n",
    "    for idx in ids_valid:\n",
    "        \n",
    "        chunk = basin_wise(idx, freq, subset_jjas)\n",
    "        \n",
    "        chunk.to_csv(output_f, mode=\"a\", index=False, header=False)"
   ]
  },
  {
   "cell_type": "code",
   "execution_count": 34,
   "metadata": {},
   "outputs": [],
   "source": [
    "# monthly full\n",
    "combine_for_domain(output_file, freq=\"M\", subset_jjas=False)"
   ]
  },
  {
   "cell_type": "code",
   "execution_count": 35,
   "metadata": {},
   "outputs": [
    {
     "name": "stdout",
     "output_type": "stream",
     "text": [
      "CPU times: user 6h 20min 41s, sys: 9min 20s, total: 6h 30min 1s\n",
      "Wall time: 7h 25min 50s\n"
     ]
    }
   ],
   "source": [
    "%%time\n",
    "# weekly full\n",
    "combine_for_domain(\"../results/data4ml/domain/weekly_full.csv\", freq=\"W\", subset_jjas=False)"
   ]
  },
  {
   "cell_type": "code",
   "execution_count": null,
   "metadata": {},
   "outputs": [],
   "source": []
  },
  {
   "cell_type": "code",
   "execution_count": 36,
   "metadata": {},
   "outputs": [],
   "source": [
    "# monthly JJAS\n",
    "combine_for_domain(\"../results/data4ml/domain/monthly_JJAS.csv\", freq=\"M\", subset_jjas=True)"
   ]
  },
  {
   "cell_type": "code",
   "execution_count": 37,
   "metadata": {},
   "outputs": [],
   "source": [
    "# weekly JJAS\n",
    "combine_for_domain(\"../results/data4ml/domain/weekly_JJAS.csv\", freq=\"W\", subset_jjas=True)"
   ]
  },
  {
   "cell_type": "code",
   "execution_count": null,
   "metadata": {},
   "outputs": [],
   "source": []
  },
  {
   "cell_type": "code",
   "execution_count": null,
   "metadata": {},
   "outputs": [],
   "source": []
  },
  {
   "cell_type": "code",
   "execution_count": null,
   "metadata": {},
   "outputs": [],
   "source": []
  },
  {
   "cell_type": "code",
   "execution_count": null,
   "metadata": {},
   "outputs": [],
   "source": []
  },
  {
   "cell_type": "code",
   "execution_count": 30,
   "metadata": {},
   "outputs": [],
   "source": [
    "f = basin_wise(\"RGI60-13.00014\")"
   ]
  },
  {
   "cell_type": "code",
   "execution_count": 31,
   "metadata": {},
   "outputs": [
    {
     "data": {
      "text/html": [
       "<div>\n",
       "<style scoped>\n",
       "    .dataframe tbody tr th:only-of-type {\n",
       "        vertical-align: middle;\n",
       "    }\n",
       "\n",
       "    .dataframe tbody tr th {\n",
       "        vertical-align: top;\n",
       "    }\n",
       "\n",
       "    .dataframe thead th {\n",
       "        text-align: right;\n",
       "    }\n",
       "</style>\n",
       "<table border=\"1\" class=\"dataframe\">\n",
       "  <thead>\n",
       "    <tr style=\"text-align: right;\">\n",
       "      <th></th>\n",
       "      <th>LS_DATE</th>\n",
       "      <th>TSL_normalized</th>\n",
       "      <th>t2m_min</th>\n",
       "      <th>t2m_max</th>\n",
       "      <th>t2m_mean</th>\n",
       "      <th>tp</th>\n",
       "      <th>sf</th>\n",
       "      <th>ssrd</th>\n",
       "      <th>strd</th>\n",
       "      <th>wind_max</th>\n",
       "      <th>...</th>\n",
       "      <th>wind_dir_mean_sinrol-10</th>\n",
       "      <th>wind_dir_mean_sinrol-11</th>\n",
       "      <th>wind_dir_mean_sinrol-12</th>\n",
       "      <th>Area</th>\n",
       "      <th>Zmin</th>\n",
       "      <th>Zmax</th>\n",
       "      <th>Zmed</th>\n",
       "      <th>Slope</th>\n",
       "      <th>Aspect</th>\n",
       "      <th>Lmax</th>\n",
       "    </tr>\n",
       "  </thead>\n",
       "  <tbody>\n",
       "    <tr>\n",
       "      <th>0</th>\n",
       "      <td>1989-08-31</td>\n",
       "      <td>0.348837</td>\n",
       "      <td>259.058380</td>\n",
       "      <td>281.945679</td>\n",
       "      <td>271.596613</td>\n",
       "      <td>0.028761</td>\n",
       "      <td>0.022281</td>\n",
       "      <td>8.292750e+08</td>\n",
       "      <td>287.097715</td>\n",
       "      <td>6.424274</td>\n",
       "      <td>...</td>\n",
       "      <td>-0.294850</td>\n",
       "      <td>-0.276881</td>\n",
       "      <td>-0.315482</td>\n",
       "      <td>0.649</td>\n",
       "      <td>5559</td>\n",
       "      <td>5953</td>\n",
       "      <td>5745</td>\n",
       "      <td>30.2</td>\n",
       "      <td>51</td>\n",
       "      <td>615</td>\n",
       "    </tr>\n",
       "    <tr>\n",
       "      <th>1</th>\n",
       "      <td>1990-04-30</td>\n",
       "      <td>0.052326</td>\n",
       "      <td>237.910599</td>\n",
       "      <td>265.980774</td>\n",
       "      <td>255.141478</td>\n",
       "      <td>0.021849</td>\n",
       "      <td>0.021832</td>\n",
       "      <td>8.830251e+08</td>\n",
       "      <td>200.280629</td>\n",
       "      <td>6.011836</td>\n",
       "      <td>...</td>\n",
       "      <td>-0.341656</td>\n",
       "      <td>-0.365422</td>\n",
       "      <td>-0.367241</td>\n",
       "      <td>0.649</td>\n",
       "      <td>5559</td>\n",
       "      <td>5953</td>\n",
       "      <td>5745</td>\n",
       "      <td>30.2</td>\n",
       "      <td>51</td>\n",
       "      <td>615</td>\n",
       "    </tr>\n",
       "    <tr>\n",
       "      <th>2</th>\n",
       "      <td>1990-05-31</td>\n",
       "      <td>0.055814</td>\n",
       "      <td>242.675293</td>\n",
       "      <td>272.307953</td>\n",
       "      <td>261.945150</td>\n",
       "      <td>0.004202</td>\n",
       "      <td>0.004181</td>\n",
       "      <td>1.014764e+09</td>\n",
       "      <td>220.910335</td>\n",
       "      <td>5.346447</td>\n",
       "      <td>...</td>\n",
       "      <td>-0.354279</td>\n",
       "      <td>-0.369202</td>\n",
       "      <td>-0.388692</td>\n",
       "      <td>0.649</td>\n",
       "      <td>5559</td>\n",
       "      <td>5953</td>\n",
       "      <td>5745</td>\n",
       "      <td>30.2</td>\n",
       "      <td>51</td>\n",
       "      <td>615</td>\n",
       "    </tr>\n",
       "    <tr>\n",
       "      <th>3</th>\n",
       "      <td>1991-04-30</td>\n",
       "      <td>0.055814</td>\n",
       "      <td>242.211685</td>\n",
       "      <td>266.971863</td>\n",
       "      <td>254.809701</td>\n",
       "      <td>0.015924</td>\n",
       "      <td>0.015863</td>\n",
       "      <td>8.740165e+08</td>\n",
       "      <td>201.806992</td>\n",
       "      <td>6.521462</td>\n",
       "      <td>...</td>\n",
       "      <td>-0.445294</td>\n",
       "      <td>-0.436599</td>\n",
       "      <td>-0.453937</td>\n",
       "      <td>0.649</td>\n",
       "      <td>5559</td>\n",
       "      <td>5953</td>\n",
       "      <td>5745</td>\n",
       "      <td>30.2</td>\n",
       "      <td>51</td>\n",
       "      <td>615</td>\n",
       "    </tr>\n",
       "    <tr>\n",
       "      <th>4</th>\n",
       "      <td>1991-08-31</td>\n",
       "      <td>0.081395</td>\n",
       "      <td>248.359772</td>\n",
       "      <td>283.750885</td>\n",
       "      <td>272.605475</td>\n",
       "      <td>0.027929</td>\n",
       "      <td>0.022797</td>\n",
       "      <td>8.430954e+08</td>\n",
       "      <td>282.575966</td>\n",
       "      <td>7.844883</td>\n",
       "      <td>...</td>\n",
       "      <td>-0.363171</td>\n",
       "      <td>-0.387498</td>\n",
       "      <td>-0.427142</td>\n",
       "      <td>0.649</td>\n",
       "      <td>5559</td>\n",
       "      <td>5953</td>\n",
       "      <td>5745</td>\n",
       "      <td>30.2</td>\n",
       "      <td>51</td>\n",
       "      <td>615</td>\n",
       "    </tr>\n",
       "  </tbody>\n",
       "</table>\n",
       "<p>5 rows × 309 columns</p>\n",
       "</div>"
      ],
      "text/plain": [
       "      LS_DATE  TSL_normalized     t2m_min     t2m_max    t2m_mean        tp  \\\n",
       "0  1989-08-31        0.348837  259.058380  281.945679  271.596613  0.028761   \n",
       "1  1990-04-30        0.052326  237.910599  265.980774  255.141478  0.021849   \n",
       "2  1990-05-31        0.055814  242.675293  272.307953  261.945150  0.004202   \n",
       "3  1991-04-30        0.055814  242.211685  266.971863  254.809701  0.015924   \n",
       "4  1991-08-31        0.081395  248.359772  283.750885  272.605475  0.027929   \n",
       "\n",
       "         sf          ssrd        strd  wind_max  ...  wind_dir_mean_sinrol-10  \\\n",
       "0  0.022281  8.292750e+08  287.097715  6.424274  ...                -0.294850   \n",
       "1  0.021832  8.830251e+08  200.280629  6.011836  ...                -0.341656   \n",
       "2  0.004181  1.014764e+09  220.910335  5.346447  ...                -0.354279   \n",
       "3  0.015863  8.740165e+08  201.806992  6.521462  ...                -0.445294   \n",
       "4  0.022797  8.430954e+08  282.575966  7.844883  ...                -0.363171   \n",
       "\n",
       "   wind_dir_mean_sinrol-11  wind_dir_mean_sinrol-12   Area  Zmin  Zmax  Zmed  \\\n",
       "0                -0.276881                -0.315482  0.649  5559  5953  5745   \n",
       "1                -0.365422                -0.367241  0.649  5559  5953  5745   \n",
       "2                -0.369202                -0.388692  0.649  5559  5953  5745   \n",
       "3                -0.436599                -0.453937  0.649  5559  5953  5745   \n",
       "4                -0.387498                -0.427142  0.649  5559  5953  5745   \n",
       "\n",
       "   Slope  Aspect  Lmax  \n",
       "0   30.2      51   615  \n",
       "1   30.2      51   615  \n",
       "2   30.2      51   615  \n",
       "3   30.2      51   615  \n",
       "4   30.2      51   615  \n",
       "\n",
       "[5 rows x 309 columns]"
      ]
     },
     "execution_count": 31,
     "metadata": {},
     "output_type": "execute_result"
    }
   ],
   "source": [
    "f.head()"
   ]
  },
  {
   "cell_type": "code",
   "execution_count": 32,
   "metadata": {},
   "outputs": [],
   "source": [
    "ff = pd.read_pickle(\"../hackathon_2018/data/for_training/RGI60-13.00014.pkl\")"
   ]
  },
  {
   "cell_type": "code",
   "execution_count": 33,
   "metadata": {},
   "outputs": [
    {
     "data": {
      "text/plain": [
       "Index(['wsmin-10', 'wsmin-11', 'wsmin-12', 'wsminrol-1', 'wsminrol-2',\n",
       "       'wsminrol-3', 'wsminrol-4', 'wsminrol-5', 'wsminrol-6', 'wsminrol-7',\n",
       "       'wsminrol-8', 'wsminrol-9', 'wsminrol-10', 'wsminrol-11', 'wsminrol-12',\n",
       "       'Month', 'Quarter', 'TSL_ELEV', 'RGIId', 'GLIMSId', 'BgnDate',\n",
       "       'EndDate', 'CenLon', 'CenLat', 'O1Region', 'O2Region', 'Area', 'Zmin',\n",
       "       'Zmax', 'Zmed', 'Slope', 'Aspect', 'Lmax', 'Status', 'Connect', 'Form',\n",
       "       'TermType', 'Surging', 'Linkages', 'Name'],\n",
       "      dtype='object')"
      ]
     },
     "execution_count": 33,
     "metadata": {},
     "output_type": "execute_result"
    }
   ],
   "source": [
    "ff.columns[-40:]"
   ]
  },
  {
   "cell_type": "code",
   "execution_count": 34,
   "metadata": {},
   "outputs": [
    {
     "data": {
      "text/html": [
       "<div>\n",
       "<style scoped>\n",
       "    .dataframe tbody tr th:only-of-type {\n",
       "        vertical-align: middle;\n",
       "    }\n",
       "\n",
       "    .dataframe tbody tr th {\n",
       "        vertical-align: top;\n",
       "    }\n",
       "\n",
       "    .dataframe thead th {\n",
       "        text-align: right;\n",
       "    }\n",
       "</style>\n",
       "<table border=\"1\" class=\"dataframe\">\n",
       "  <thead>\n",
       "    <tr style=\"text-align: right;\">\n",
       "      <th></th>\n",
       "      <th>TSL_ELEV</th>\n",
       "    </tr>\n",
       "  </thead>\n",
       "  <tbody>\n",
       "    <tr>\n",
       "      <th>count</th>\n",
       "      <td>51.000000</td>\n",
       "    </tr>\n",
       "    <tr>\n",
       "      <th>mean</th>\n",
       "      <td>5605.853038</td>\n",
       "    </tr>\n",
       "    <tr>\n",
       "      <th>std</th>\n",
       "      <td>36.307278</td>\n",
       "    </tr>\n",
       "    <tr>\n",
       "      <th>min</th>\n",
       "      <td>5558.291380</td>\n",
       "    </tr>\n",
       "    <tr>\n",
       "      <th>25%</th>\n",
       "      <td>5592.094870</td>\n",
       "    </tr>\n",
       "    <tr>\n",
       "      <th>50%</th>\n",
       "      <td>5595.205261</td>\n",
       "    </tr>\n",
       "    <tr>\n",
       "      <th>75%</th>\n",
       "      <td>5599.325274</td>\n",
       "    </tr>\n",
       "    <tr>\n",
       "      <th>max</th>\n",
       "      <td>5750.800036</td>\n",
       "    </tr>\n",
       "  </tbody>\n",
       "</table>\n",
       "</div>"
      ],
      "text/plain": [
       "          TSL_ELEV\n",
       "count    51.000000\n",
       "mean   5605.853038\n",
       "std      36.307278\n",
       "min    5558.291380\n",
       "25%    5592.094870\n",
       "50%    5595.205261\n",
       "75%    5599.325274\n",
       "max    5750.800036"
      ]
     },
     "execution_count": 34,
     "metadata": {},
     "output_type": "execute_result"
    }
   ],
   "source": [
    "ff[[\"TSL_ELEV\"]].describe()"
   ]
  },
  {
   "cell_type": "code",
   "execution_count": 35,
   "metadata": {},
   "outputs": [
    {
     "data": {
      "text/html": [
       "<div>\n",
       "<style scoped>\n",
       "    .dataframe tbody tr th:only-of-type {\n",
       "        vertical-align: middle;\n",
       "    }\n",
       "\n",
       "    .dataframe tbody tr th {\n",
       "        vertical-align: top;\n",
       "    }\n",
       "\n",
       "    .dataframe thead th {\n",
       "        text-align: right;\n",
       "    }\n",
       "</style>\n",
       "<table border=\"1\" class=\"dataframe\">\n",
       "  <thead>\n",
       "    <tr style=\"text-align: right;\">\n",
       "      <th></th>\n",
       "      <th>TSL_normalized</th>\n",
       "    </tr>\n",
       "  </thead>\n",
       "  <tbody>\n",
       "    <tr>\n",
       "      <th>count</th>\n",
       "      <td>126.000000</td>\n",
       "    </tr>\n",
       "    <tr>\n",
       "      <th>mean</th>\n",
       "      <td>0.103201</td>\n",
       "    </tr>\n",
       "    <tr>\n",
       "      <th>std</th>\n",
       "      <td>0.113895</td>\n",
       "    </tr>\n",
       "    <tr>\n",
       "      <th>min</th>\n",
       "      <td>0.044186</td>\n",
       "    </tr>\n",
       "    <tr>\n",
       "      <th>25%</th>\n",
       "      <td>0.054651</td>\n",
       "    </tr>\n",
       "    <tr>\n",
       "      <th>50%</th>\n",
       "      <td>0.055814</td>\n",
       "    </tr>\n",
       "    <tr>\n",
       "      <th>75%</th>\n",
       "      <td>0.089826</td>\n",
       "    </tr>\n",
       "    <tr>\n",
       "      <th>max</th>\n",
       "      <td>0.732558</td>\n",
       "    </tr>\n",
       "  </tbody>\n",
       "</table>\n",
       "</div>"
      ],
      "text/plain": [
       "       TSL_normalized\n",
       "count      126.000000\n",
       "mean         0.103201\n",
       "std          0.113895\n",
       "min          0.044186\n",
       "25%          0.054651\n",
       "50%          0.055814\n",
       "75%          0.089826\n",
       "max          0.732558"
      ]
     },
     "execution_count": 35,
     "metadata": {},
     "output_type": "execute_result"
    }
   ],
   "source": [
    "f[[\"TSL_normalized\"]].describe()"
   ]
  },
  {
   "cell_type": "code",
   "execution_count": null,
   "metadata": {},
   "outputs": [],
   "source": []
  }
 ],
 "metadata": {
  "kernelspec": {
   "display_name": "Python 3",
   "language": "python",
   "name": "python3"
  },
  "language_info": {
   "codemirror_mode": {
    "name": "ipython",
    "version": 3
   },
   "file_extension": ".py",
   "mimetype": "text/x-python",
   "name": "python",
   "nbconvert_exporter": "python",
   "pygments_lexer": "ipython3",
   "version": "3.8.0"
  }
 },
 "nbformat": 4,
 "nbformat_minor": 2
}
