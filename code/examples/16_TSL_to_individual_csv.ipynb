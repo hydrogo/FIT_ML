{
 "cells": [
  {
   "cell_type": "code",
   "execution_count": 9,
   "metadata": {},
   "outputs": [],
   "source": [
    "import numpy as np\n",
    "import pandas as pd\n",
    "\n",
    "from multiprocessing import Pool, cpu_count"
   ]
  },
  {
   "cell_type": "code",
   "execution_count": 2,
   "metadata": {},
   "outputs": [],
   "source": [
    "tsl_store = pd.read_hdf(\"../data/FIT_forcing/tsl/TSL-filtered-noWinterMax_SLAthres.h5\", mode=\"r\")"
   ]
  },
  {
   "cell_type": "code",
   "execution_count": 6,
   "metadata": {},
   "outputs": [],
   "source": [
    "ids_tsl = np.load(\"../data/misc/glacier_IDs.npy\", allow_pickle=True)"
   ]
  },
  {
   "cell_type": "code",
   "execution_count": 7,
   "metadata": {},
   "outputs": [],
   "source": [
    "# parser to grab TSL data for the individual glacier based on their ids\n",
    "# also save data to individual csv files to save memory on reading TSL h5\n",
    "def get_tsl(rgi_id, store=tsl_store):\n",
    "    \n",
    "    df = store[store['RGI_ID']==rgi_id][[\"TSL_normalized\", \"LS_DATE\"]]\n",
    "    df.index = pd.to_datetime(df[\"LS_DATE\"])\n",
    "    \n",
    "    tsl = pd.DataFrame(df[\"TSL_normalized\"])\n",
    "    \n",
    "    destination=f\"../results/tsl_csv/{rgi_id}.csv\"\n",
    "    \n",
    "    tsl.to_csv(destination)\n",
    "    \n",
    "    #return"
   ]
  },
  {
   "cell_type": "code",
   "execution_count": 8,
   "metadata": {},
   "outputs": [],
   "source": [
    "get_tsl(\"RGI60-15.13044\")"
   ]
  },
  {
   "cell_type": "code",
   "execution_count": 10,
   "metadata": {},
   "outputs": [],
   "source": [
    "ids_tsl = ids_tsl.tolist()"
   ]
  },
  {
   "cell_type": "code",
   "execution_count": 11,
   "metadata": {},
   "outputs": [],
   "source": [
    "p = Pool(cpu_count())"
   ]
  },
  {
   "cell_type": "code",
   "execution_count": 12,
   "metadata": {},
   "outputs": [],
   "source": [
    "saved = list(p.imap(get_tsl, ids_tsl))"
   ]
  },
  {
   "cell_type": "code",
   "execution_count": 13,
   "metadata": {},
   "outputs": [],
   "source": [
    "p.close()\n",
    "p.join()"
   ]
  },
  {
   "cell_type": "code",
   "execution_count": null,
   "metadata": {},
   "outputs": [],
   "source": []
  }
 ],
 "metadata": {
  "kernelspec": {
   "display_name": "Python 3",
   "language": "python",
   "name": "python3"
  },
  "language_info": {
   "codemirror_mode": {
    "name": "ipython",
    "version": 3
   },
   "file_extension": ".py",
   "mimetype": "text/x-python",
   "name": "python",
   "nbconvert_exporter": "python",
   "pygments_lexer": "ipython3",
   "version": "3.8.0"
  }
 },
 "nbformat": 4,
 "nbformat_minor": 2
}
