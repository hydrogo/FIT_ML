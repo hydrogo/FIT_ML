{
 "cells": [
  {
   "cell_type": "code",
   "execution_count": 1,
   "metadata": {},
   "outputs": [],
   "source": [
    "import numpy as np\n",
    "import pandas as pd\n",
    "from functools import partial\n",
    "from multiprocessing import Pool, cpu_count"
   ]
  },
  {
   "cell_type": "code",
   "execution_count": 2,
   "metadata": {},
   "outputs": [],
   "source": [
    "ids_tsl = np.load(\"../data/misc/glacier_IDs.npy\", allow_pickle=True).tolist()"
   ]
  },
  {
   "cell_type": "code",
   "execution_count": 3,
   "metadata": {},
   "outputs": [],
   "source": [
    "tsl_path = \"../results/tsl_csv/\""
   ]
  },
  {
   "cell_type": "code",
   "execution_count": 4,
   "metadata": {},
   "outputs": [],
   "source": [
    "meteo_path = \"../data/FIT_forcing/meteo/\""
   ]
  },
  {
   "cell_type": "code",
   "execution_count": 5,
   "metadata": {},
   "outputs": [],
   "source": [
    "def read_tsl(rgi_id, path=tsl_path):\n",
    "    \n",
    "    tsl = pd.read_csv(f\"{tsl_path}{rgi_id}.csv\", index_col=0, parse_dates=True)\n",
    "    \n",
    "    return tsl"
   ]
  },
  {
   "cell_type": "code",
   "execution_count": 6,
   "metadata": {},
   "outputs": [],
   "source": [
    "def read_meteo(rgi_id, path=meteo_path):\n",
    "    \n",
    "    meteo = pd.read_hdf(f\"{meteo_path}{rgi_id}.h5\")\n",
    "    \n",
    "    return meteo"
   ]
  },
  {
   "cell_type": "code",
   "execution_count": 7,
   "metadata": {},
   "outputs": [],
   "source": [
    "def create_features(dataframe, back_to=12):\n",
    "    \n",
    "    # convert circular wind_dir_mean \n",
    "    # to two components of cos() and sin()\n",
    "    # source: https://stats.stackexchange.com/questions/336613/\n",
    "    # regression-using-circular-variable-hour-from-023-as-predictor\n",
    "    \n",
    "    # copy for safety\n",
    "    df = dataframe.copy()\n",
    "    \n",
    "    # create cos() and sin() components\n",
    "    df[\"wind_dir_mean_cos\"] = np.cos(np.deg2rad(df[\"wind_dir_mean\"]))\n",
    "    df[\"wind_dir_mean_sin\"] = np.sin(np.deg2rad(df[\"wind_dir_mean\"]))\n",
    "    \n",
    "    # drop \"wind_dir_mean\"\n",
    "    df = df.drop([\"wind_dir_mean\"], axis=1)\n",
    "    \n",
    "    # make shifts and rolling means\n",
    "    cols = df.columns\n",
    "    for col in cols:\n",
    "        for shift in range(1, back_to+1, 1):\n",
    "            df[\"{}-{}\".format(col, shift)] = df[col].shift(shift).values\n",
    "        for rol in range(1, back_to+1, 1):\n",
    "            df[\"{}rol-{}\".format(col, rol)] = df[col].rolling(window=rol).mean().values\n",
    "    \n",
    "    # delete NaNs\n",
    "    df = df.dropna()\n",
    "       \n",
    "    return df"
   ]
  },
  {
   "cell_type": "code",
   "execution_count": 16,
   "metadata": {},
   "outputs": [],
   "source": [
    "def dataset_construction(freq, subset_jjas, rgi_id):\n",
    "    \n",
    "    # get raw TSL measurements\n",
    "    tsl = read_tsl(rgi_id)\n",
    "    \n",
    "    # resample to specific frequency\n",
    "    tsl_resample = tsl.resample(freq).mean()\n",
    "    \n",
    "    # get raw ERA5-Land forcing\n",
    "    meteo = read_meteo(rgi_id)\n",
    "    \n",
    "    # resample to specific frequency\n",
    "    meteo_resample = pd.DataFrame({'t2m_min': meteo['t2m_min'].resample(freq).min(), \n",
    "                                   't2m_max': meteo['t2m_max'].resample(freq).max(), \n",
    "                                   't2m_mean': meteo['t2m_mean'].resample(freq).mean(), \n",
    "                                   'tp': meteo['tp'].resample(freq).sum(), \n",
    "                                   'sf': meteo['sf'].resample(freq).sum(),\n",
    "                                   'ssrd': meteo['ssrd'].resample(freq).sum(), \n",
    "                                   'strd': meteo['strd_mean'].resample(freq).sum(),\n",
    "                                   'wind_max': meteo['wind_max'].resample(freq).max(), \n",
    "                                   'wind_mean': meteo['wind_mean'].resample(freq).mean(), \n",
    "                                   'wind_dir_mean': meteo['wind_dir_mean'].resample(freq).mean(),\n",
    "                                   'tcc': meteo['tcc'].resample(freq).mean()})\n",
    "    \n",
    "    # enrich meteo features\n",
    "    if freq == \"M\":\n",
    "        meteo_enrich = create_features(meteo_resample, back_to=12)\n",
    "    elif freq == \"W\":\n",
    "        meteo_enrich = create_features(meteo_resample, back_to=48) #12 months back considering 4 weeks in each month\n",
    "    \n",
    "    # merge datasets\n",
    "    dataset = pd.concat([tsl_resample, meteo_enrich], axis=1)\n",
    "    \n",
    "    # drop NaNs\n",
    "    dataset = dataset.dropna()\n",
    "    \n",
    "    if subset_jjas:\n",
    "        dataset = dataset[(dataset.index.month == 6) | (dataset.index.month == 7) | \n",
    "                          (dataset.index.month == 8) | (dataset.index.month == 9)]\n",
    "    \n",
    "    if freq == \"M\":\n",
    "        freq_prefix = \"monthly\"\n",
    "    elif freq == \"W\":\n",
    "        freq_prefix = \"weekly\"\n",
    "    \n",
    "    if subset_jjas:\n",
    "        subset_prefix = \"JJAS\"\n",
    "    else:\n",
    "        subset_prefix = \"full\"\n",
    "    \n",
    "    dataset.to_csv(f\"../results/data4ml/{freq_prefix}_{subset_prefix}/{rgi_id}.csv\", compression=\"gzip\")\n",
    "    \n",
    "    #print(rgi_id)\n",
    "    return rgi_id"
   ]
  },
  {
   "cell_type": "code",
   "execution_count": 9,
   "metadata": {},
   "outputs": [],
   "source": [
    "def detect_no_tsl_data(rgi_id):\n",
    "    \n",
    "    tsl = read_tsl(rgi_id)\n",
    "    \n",
    "    try:\n",
    "        tsl = tsl.resample(\"M\").mean()\n",
    "    except:\n",
    "        print(rgi_id)\n",
    "        return rgi_id"
   ]
  },
  {
   "cell_type": "code",
   "execution_count": 10,
   "metadata": {
    "scrolled": true
   },
   "outputs": [
    {
     "name": "stdout",
     "output_type": "stream",
     "text": [
      "RGI60-15.00648\n",
      "RGI60-15.00889\n",
      "RGI60-15.01225\n",
      "RGI60-15.01150\n",
      "RGI60-15.01434\n",
      "RGI60-15.01587\n",
      "RGI60-15.01586\n",
      "RGI60-15.01409\n",
      "RGI60-15.01573\n",
      "RGI60-15.01601\n",
      "RGI60-15.02843\n",
      "RGI60-15.04016\n",
      "RGI60-15.03932\n",
      "RGI60-15.04019\n",
      "RGI60-15.04525\n",
      "RGI60-15.04776\n",
      "RGI60-15.06976\n",
      "RGI60-15.07914\n",
      "RGI60-15.09331\n",
      "RGI60-15.09281\n",
      "RGI60-15.10738\n",
      "RGI60-15.12162\n",
      "RGI60-14.00367\n",
      "RGI60-14.01964\n",
      "RGI60-14.03360\n",
      "RGI60-14.04477\n",
      "RGI60-14.05215\n",
      "RGI60-14.05292\n",
      "RGI60-14.05257\n",
      "RGI60-14.05518\n",
      "RGI60-14.06425\n",
      "RGI60-14.07032\n",
      "RGI60-14.08531\n",
      "RGI60-14.09977\n",
      "RGI60-14.10680\n",
      "RGI60-14.13545\n",
      "RGI60-14.16065\n",
      "RGI60-14.18712\n",
      "RGI60-14.21299\n",
      "RGI60-14.21950\n",
      "RGI60-14.22229\n",
      "RGI60-14.26144\n",
      "RGI60-13.01210\n",
      "RGI60-13.04860\n",
      "RGI60-13.07339\n",
      "RGI60-13.10532\n",
      "RGI60-13.15253\n",
      "RGI60-13.17573\n",
      "RGI60-13.19649\n",
      "RGI60-13.22224\n",
      "RGI60-13.23335\n",
      "RGI60-13.26439\n",
      "RGI60-13.27625\n",
      "RGI60-13.30888\n",
      "RGI60-13.31279\n",
      "RGI60-13.34226\n",
      "RGI60-13.36920\n",
      "RGI60-13.37751\n",
      "RGI60-13.38892\n",
      "RGI60-13.39200\n",
      "RGI60-13.41740\n",
      "RGI60-13.43164\n",
      "RGI60-13.43192\n",
      "RGI60-13.43488\n",
      "RGI60-13.43451\n",
      "RGI60-13.43589\n",
      "RGI60-13.43638\n",
      "RGI60-13.43790\n",
      "RGI60-13.43614\n",
      "RGI60-13.45817\n",
      "RGI60-13.46321\n",
      "RGI60-13.47209\n",
      "RGI60-13.48229\n",
      "RGI60-13.50411\n",
      "RGI60-13.53270\n",
      "RGI60-13.54184\n",
      "RGI60-13.54183\n",
      "RGI60-13.54192\n",
      "RGI60-13.54189\n",
      "RGI60-13.54187\n",
      "RGI60-13.54186\n",
      "RGI60-13.54185\n",
      "RGI60-13.54331\n",
      "RGI60-13.54338\n",
      "RGI60-13.54340\n",
      "RGI60-13.54339\n",
      "RGI60-13.54336\n",
      "RGI60-13.54335\n",
      "RGI60-13.54334\n",
      "RGI60-13.54304\n",
      "RGI60-13.54302\n",
      "RGI60-13.54306\n",
      "RGI60-13.54305\n",
      "RGI60-13.54303\n",
      "RGI60-13.54307\n",
      "RGI60-13.54309\n",
      "RGI60-13.54333\n",
      "RGI60-13.54311\n",
      "RGI60-13.54314\n",
      "RGI60-13.54322\n",
      "RGI60-13.54317\n",
      "RGI60-13.54320\n",
      "RGI60-13.54321\n",
      "RGI60-13.54299\n",
      "RGI60-13.54300\n",
      "RGI60-13.54301\n",
      "RGI60-13.54356\n",
      "RGI60-13.54294\n",
      "RGI60-13.54295\n",
      "RGI60-13.54270\n",
      "RGI60-13.54355\n",
      "RGI60-13.54359\n",
      "RGI60-13.54360\n",
      "RGI60-13.54361\n",
      "RGI60-13.54281\n",
      "RGI60-13.54282\n",
      "RGI60-13.54283\n",
      "RGI60-13.54245\n",
      "RGI60-13.54251\n",
      "RGI60-13.54254\n",
      "RGI60-13.54284\n",
      "RGI60-13.54287\n",
      "RGI60-13.54362\n",
      "RGI60-13.54345\n",
      "RGI60-13.54347\n",
      "RGI60-13.54350\n",
      "RGI60-13.54363\n",
      "RGI60-13.54233\n",
      "RGI60-13.54351\n",
      "RGI60-13.54229\n",
      "RGI60-13.54234\n",
      "RGI60-13.54235\n",
      "RGI60-13.54225\n",
      "RGI60-13.54227\n",
      "RGI60-13.54257\n",
      "RGI60-13.54224\n",
      "RGI60-13.54353\n",
      "RGI60-13.54268\n",
      "RGI60-13.54261\n",
      "RGI60-13.54263\n",
      "RGI60-13.54269\n",
      "RGI60-13.54219\n",
      "RGI60-13.54221\n",
      "RGI60-13.54222\n",
      "RGI60-13.54209\n",
      "RGI60-13.54213\n",
      "RGI60-13.54215\n",
      "RGI60-13.54202\n",
      "RGI60-13.54205\n",
      "RGI60-13.54199\n",
      "RGI60-13.54208\n",
      "RGI60-13.54207\n",
      "RGI60-13.54203\n",
      "RGI60-13.54198\n",
      "RGI60-13.54197\n",
      "RGI60-13.54211\n",
      "RGI60-13.54431\n",
      "RGI60-13.54212\n",
      "CPU times: user 27 s, sys: 4.24 s, total: 31.3 s\n",
      "Wall time: 9min 24s\n"
     ]
    }
   ],
   "source": [
    "%%time\n",
    "p = Pool(cpu_count())\n",
    "no_tsl_data = list(p.imap(detect_no_tsl_data, ids_tsl))\n",
    "\n",
    "p.close()\n",
    "p.join()"
   ]
  },
  {
   "cell_type": "code",
   "execution_count": 11,
   "metadata": {},
   "outputs": [],
   "source": [
    "no_tsl_data = [i for i in no_tsl_data if i is not None]"
   ]
  },
  {
   "cell_type": "code",
   "execution_count": 13,
   "metadata": {},
   "outputs": [
    {
     "data": {
      "text/plain": [
       "158"
      ]
     },
     "execution_count": 13,
     "metadata": {},
     "output_type": "execute_result"
    }
   ],
   "source": [
    "len(no_tsl_data)"
   ]
  },
  {
   "cell_type": "code",
   "execution_count": 14,
   "metadata": {},
   "outputs": [],
   "source": [
    "ids_tsl_valid = [i for i in ids_tsl if i not in no_tsl_data]"
   ]
  },
  {
   "cell_type": "code",
   "execution_count": 15,
   "metadata": {},
   "outputs": [
    {
     "data": {
      "text/plain": [
       "28074"
      ]
     },
     "execution_count": 15,
     "metadata": {},
     "output_type": "execute_result"
    }
   ],
   "source": [
    "len(ids_tsl_valid)"
   ]
  },
  {
   "cell_type": "code",
   "execution_count": null,
   "metadata": {},
   "outputs": [],
   "source": [
    "# monthly, full data\n",
    "p = Pool(cpu_count())\n",
    "\n",
    "freq=\"M\"\n",
    "subset_jjas = False\n",
    "\n",
    "func = partial(dataset_construction, freq, subset_jjas)\n",
    "saved = list(p.imap(func, ids_tsl_valid))\n",
    "\n",
    "p.close()\n",
    "p.join()\n",
    "\n",
    "print(len(saved))"
   ]
  },
  {
   "cell_type": "code",
   "execution_count": null,
   "metadata": {},
   "outputs": [],
   "source": [
    "# monthly, JJAS data\n",
    "p = Pool(cpu_count())\n",
    "\n",
    "freq=\"M\"\n",
    "subset_jjas = True\n",
    "\n",
    "func = partial(dataset_construction, freq, subset_jjas)\n",
    "saved = list(p.map(func, ids_tsl_valid))\n",
    "\n",
    "p.close()\n",
    "p.join()\n",
    "\n",
    "print(len(saved))"
   ]
  },
  {
   "cell_type": "code",
   "execution_count": null,
   "metadata": {},
   "outputs": [],
   "source": [
    "# weekly, full data\n",
    "p = Pool(cpu_count())\n",
    "\n",
    "freq=\"W\"\n",
    "subset_jjas = False\n",
    "\n",
    "func = partial(dataset_construction, freq, subset_jjas)\n",
    "saved = list(p.map(func, ids_tsl_valid))\n",
    "\n",
    "p.close()\n",
    "p.join()\n",
    "\n",
    "print(len(saved))"
   ]
  },
  {
   "cell_type": "code",
   "execution_count": null,
   "metadata": {},
   "outputs": [],
   "source": [
    "# weekly, JJAS data\n",
    "p = Pool(cpu_count())\n",
    "\n",
    "freq=\"W\"\n",
    "subset_jjas = True\n",
    "\n",
    "func = partial(dataset_construction, freq, subset_jjas)\n",
    "saved = list(p.map(func, ids_tsl_valid))\n",
    "\n",
    "p.close()\n",
    "p.join()\n",
    "\n",
    "print(len(saved))"
   ]
  },
  {
   "cell_type": "code",
   "execution_count": null,
   "metadata": {},
   "outputs": [],
   "source": []
  }
 ],
 "metadata": {
  "kernelspec": {
   "display_name": "Python 3",
   "language": "python",
   "name": "python3"
  },
  "language_info": {
   "codemirror_mode": {
    "name": "ipython",
    "version": 3
   },
   "file_extension": ".py",
   "mimetype": "text/x-python",
   "name": "python",
   "nbconvert_exporter": "python",
   "pygments_lexer": "ipython3",
   "version": "3.8.0"
  }
 },
 "nbformat": 4,
 "nbformat_minor": 2
}
