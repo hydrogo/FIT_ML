{
 "cells": [
  {
   "cell_type": "code",
   "execution_count": 1,
   "metadata": {},
   "outputs": [],
   "source": [
    "import numpy as np\n",
    "import pandas as pd"
   ]
  },
  {
   "cell_type": "code",
   "execution_count": 2,
   "metadata": {},
   "outputs": [],
   "source": [
    "#available columns\n",
    "\"\"\"\n",
    "'CC_area', 'CC_total_port', 'DC_area', 'DIC_area', 'DIC_max', 'IC_area',\n",
    "'LS_DATE', 'LS_ID', 'LS_SAT', 'RGI_ID', 'SC_area', 'SC_max', 'SC_mean',\n",
    "'SC_median', 'SC_min', 'SC_stdev', 'cc_TSLrange_percent',\n",
    "'class_coverage', 'glacier_DEM_max', 'glacier_DEM_min', 'glacier_area',\n",
    "'tool_version', 'scene', 'TSL_normalized', 'TSL_stddev_norm', 'year', 'month'\n",
    "\"\"\"\n",
    "\n",
    "tsl_store = pd.read_hdf(\"../data/tsl/TSLA-HMA-2020-07-filtered-nWmax_0_2SLAthres-0_3cut.h5\", \n",
    "                        mode=\"r\", iterator=True)"
   ]
  },
  {
   "cell_type": "code",
   "execution_count": 3,
   "metadata": {},
   "outputs": [],
   "source": [
    "chunks = tsl_store.store.select(key=\"TSLs\", \n",
    "                                columns=['RGI_ID', 'LS_DATE', 'SC_median', 'TSL_normalized'], \n",
    "                                chunksize=10000)\n",
    "\n",
    "holder = []\n",
    "\n",
    "for chunk in chunks:\n",
    "    holder.append(chunk)\n",
    "\n",
    "tsl = pd.concat(holder, axis=0)\n",
    "\n",
    "tsl = tsl.rename({\"SC_median\": \"TSL_m\"}, axis=1)"
   ]
  },
  {
   "cell_type": "code",
   "execution_count": 4,
   "metadata": {},
   "outputs": [
    {
     "data": {
      "text/html": [
       "<div>\n",
       "<style scoped>\n",
       "    .dataframe tbody tr th:only-of-type {\n",
       "        vertical-align: middle;\n",
       "    }\n",
       "\n",
       "    .dataframe tbody tr th {\n",
       "        vertical-align: top;\n",
       "    }\n",
       "\n",
       "    .dataframe thead th {\n",
       "        text-align: right;\n",
       "    }\n",
       "</style>\n",
       "<table border=\"1\" class=\"dataframe\">\n",
       "  <thead>\n",
       "    <tr style=\"text-align: right;\">\n",
       "      <th></th>\n",
       "      <th>RGI_ID</th>\n",
       "      <th>LS_DATE</th>\n",
       "      <th>TSL_m</th>\n",
       "      <th>TSL_normalized</th>\n",
       "    </tr>\n",
       "  </thead>\n",
       "  <tbody>\n",
       "    <tr>\n",
       "      <th>1</th>\n",
       "      <td>RGI60-15.00007</td>\n",
       "      <td>1986-11-02</td>\n",
       "      <td>5042.0</td>\n",
       "      <td>0.769039</td>\n",
       "    </tr>\n",
       "    <tr>\n",
       "      <th>2</th>\n",
       "      <td>RGI60-15.00007</td>\n",
       "      <td>1987-01-14</td>\n",
       "      <td>4484.0</td>\n",
       "      <td>0.072409</td>\n",
       "    </tr>\n",
       "    <tr>\n",
       "      <th>3</th>\n",
       "      <td>RGI60-15.00007</td>\n",
       "      <td>1987-01-21</td>\n",
       "      <td>4470.0</td>\n",
       "      <td>0.054931</td>\n",
       "    </tr>\n",
       "    <tr>\n",
       "      <th>4</th>\n",
       "      <td>RGI60-15.00007</td>\n",
       "      <td>1987-03-03</td>\n",
       "      <td>4500.0</td>\n",
       "      <td>0.092385</td>\n",
       "    </tr>\n",
       "    <tr>\n",
       "      <th>5</th>\n",
       "      <td>RGI60-15.00007</td>\n",
       "      <td>1987-03-26</td>\n",
       "      <td>4486.0</td>\n",
       "      <td>0.074906</td>\n",
       "    </tr>\n",
       "  </tbody>\n",
       "</table>\n",
       "</div>"
      ],
      "text/plain": [
       "           RGI_ID     LS_DATE   TSL_m  TSL_normalized\n",
       "1  RGI60-15.00007  1986-11-02  5042.0        0.769039\n",
       "2  RGI60-15.00007  1987-01-14  4484.0        0.072409\n",
       "3  RGI60-15.00007  1987-01-21  4470.0        0.054931\n",
       "4  RGI60-15.00007  1987-03-03  4500.0        0.092385\n",
       "5  RGI60-15.00007  1987-03-26  4486.0        0.074906"
      ]
     },
     "execution_count": 4,
     "metadata": {},
     "output_type": "execute_result"
    }
   ],
   "source": [
    "tsl.head(5)"
   ]
  },
  {
   "cell_type": "code",
   "execution_count": 5,
   "metadata": {},
   "outputs": [],
   "source": [
    "tsl.to_pickle(\"../data/tsl/TSLs.pkl\")"
   ]
  },
  {
   "cell_type": "code",
   "execution_count": null,
   "metadata": {},
   "outputs": [],
   "source": []
  },
  {
   "cell_type": "code",
   "execution_count": 6,
   "metadata": {},
   "outputs": [],
   "source": [
    "ids = np.unique(tsl['RGI_ID'].to_numpy())"
   ]
  },
  {
   "cell_type": "code",
   "execution_count": 7,
   "metadata": {},
   "outputs": [
    {
     "data": {
      "text/plain": [
       "(28090,)"
      ]
     },
     "execution_count": 7,
     "metadata": {},
     "output_type": "execute_result"
    }
   ],
   "source": [
    "ids.shape"
   ]
  },
  {
   "cell_type": "code",
   "execution_count": 8,
   "metadata": {},
   "outputs": [],
   "source": [
    "np.save(\"../data/misc/glacier_IDs.npy\", ids)"
   ]
  },
  {
   "cell_type": "code",
   "execution_count": null,
   "metadata": {},
   "outputs": [],
   "source": []
  },
  {
   "cell_type": "code",
   "execution_count": null,
   "metadata": {},
   "outputs": [],
   "source": []
  },
  {
   "cell_type": "code",
   "execution_count": null,
   "metadata": {},
   "outputs": [],
   "source": [
    "meteo = pd.read_hdf('../data/meteo/agg-weekly/RGI60-15.00007.h5')\n",
    "meteo.index = pd.to_datetime(meteo['date'])\n",
    "meteo = meteo.drop(['date', 'wind_dir_mean_labels'], axis=1)"
   ]
  },
  {
   "cell_type": "code",
   "execution_count": null,
   "metadata": {},
   "outputs": [],
   "source": [
    "meteo"
   ]
  },
  {
   "cell_type": "code",
   "execution_count": null,
   "metadata": {},
   "outputs": [],
   "source": []
  },
  {
   "cell_type": "code",
   "execution_count": null,
   "metadata": {},
   "outputs": [],
   "source": []
  },
  {
   "cell_type": "code",
   "execution_count": null,
   "metadata": {},
   "outputs": [],
   "source": [
    "pa = pd.read_csv(\"../data/misc/rgi60_Asia.csv\")"
   ]
  },
  {
   "cell_type": "code",
   "execution_count": null,
   "metadata": {},
   "outputs": [],
   "source": [
    "pa"
   ]
  },
  {
   "cell_type": "code",
   "execution_count": null,
   "metadata": {},
   "outputs": [],
   "source": []
  }
 ],
 "metadata": {
  "kernelspec": {
   "display_name": "Python 3",
   "language": "python",
   "name": "python3"
  },
  "language_info": {
   "codemirror_mode": {
    "name": "ipython",
    "version": 3
   },
   "file_extension": ".py",
   "mimetype": "text/x-python",
   "name": "python",
   "nbconvert_exporter": "python",
   "pygments_lexer": "ipython3",
   "version": "3.8.0"
  }
 },
 "nbformat": 4,
 "nbformat_minor": 2
}
